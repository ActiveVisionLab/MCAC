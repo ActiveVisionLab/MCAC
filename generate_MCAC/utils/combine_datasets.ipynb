{
    "cells": [
        {
            "cell_type": "code",
            "execution_count": 2,
            "metadata": {},
            "outputs": [],
            "source": [
                "import os\n",
                "\n",
                "basepath = \"BASE_PATH/ims/\"\n",
                "# Define the source folders\n",
                "folders = []\n",
                "folders.append(\"shapenetsem_009\")\n",
                "folders.append(\"shapenetsem_009_low_den\")\n",
                "folders.append(\"shapenetsem_009_med_den\")\n",
                "\n",
                "# Define the destination folder\n",
                "destination_folder = \"shapenetsem_009_all\"\n",
                "\n",
                "# Create the destination folder if it doesn't exist\n",
                "\n",
                "\n",
                "# Loop through the files in folder1 and folder2\n",
                "for tag in [\"train\", \"test\", \"val\"]:\n",
                "# for tag in [\"train\"]:\n",
                "    destination_folder_path = basepath + destination_folder  + \"_\" + tag\n",
                "    if not os.path.exists(destination_folder_path):\n",
                "        os.makedirs(destination_folder_path)\n",
                "    for folder in folders:\n",
                "        folder_path = basepath + folder + \"_\" + tag\n",
                "        for file in os.listdir(folder_path):\n",
                "            # Get the absolute path of the file in the source folder\n",
                "            src_file = os.path.join(folder_path, file)\n",
                "            # Get the absolute path of the symlink in the destination folder\n",
                "            dest_file = os.path.join(destination_folder_path, file)\n",
                "            if os.path.exists(dest_file):\n",
                "                os.unlink(dest_file)\n",
                "\n",
                "            # Create the symlink\n",
                "            os.symlink(src_file, dest_file)"
            ]
        }
    ],
    "metadata": {
        "kernelspec": {
            "display_name": "blender",
            "language": "python",
            "name": "python3"
        },
        "language_info": {
            "codemirror_mode": {
                "name": "ipython",
                "version": 3
            },
            "file_extension": ".py",
            "mimetype": "text/x-python",
            "name": "python",
            "nbconvert_exporter": "python",
            "pygments_lexer": "ipython3",
            "version": "3.10.8"
        },
        "orig_nbformat": 4,
        "vscode": {
            "interpreter": {
                "hash": "ffc4463453541e711d408aaf78aae4cf2c6f68dd8135aa3a7bee0a9cf39298e8"
            }
        }
    },
    "nbformat": 4,
    "nbformat_minor": 2
}